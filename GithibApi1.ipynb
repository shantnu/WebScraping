{
 "metadata": {
  "name": "",
  "signature": "sha256:1651f3e94ff3fb7b3f5b9d9b4366ce1e3fdea99d0719aee4ce7356403e25ad18"
 },
 "nbformat": 3,
 "nbformat_minor": 0,
 "worksheets": [
  {
   "cells": [
    {
     "cell_type": "code",
     "collapsed": false,
     "input": [
      "import requests\n",
      "import json"
     ],
     "language": "python",
     "metadata": {},
     "outputs": [],
     "prompt_number": 19
    },
    {
     "cell_type": "code",
     "collapsed": false,
     "input": [
      "r = requests.get(\"https://jobs.github.com/positions.json?description=python&location=sf\")"
     ],
     "language": "python",
     "metadata": {},
     "outputs": [],
     "prompt_number": 20
    },
    {
     "cell_type": "code",
     "collapsed": false,
     "input": [
      "#print r.text\n",
      "data = r.text\n",
      "\n",
      "jobs_data = json.loads(data)\n",
      "\n"
     ],
     "language": "python",
     "metadata": {},
     "outputs": [],
     "prompt_number": 22
    },
    {
     "cell_type": "code",
     "collapsed": false,
     "input": [
      "for job in jobs_data:\n",
      "    print job['title']"
     ],
     "language": "python",
     "metadata": {},
     "outputs": [
      {
       "output_type": "stream",
       "stream": "stdout",
       "text": [
        "Full-Stack Software Engineer\n",
        "Maps Software Engineer - Python/DevOps - 37466787\n",
        "Java Server Software Engineer - 37455960\n",
        "Security Software Engineer - 37455514\n",
        "Generalist Software Engineer @ Motionloft\n",
        "ZeroCater is looking for a full-stack engineer to help feed the world.\n",
        "Software Engineer\n",
        "Maps Services API Engineer - Mandarin - 36598627\n",
        "Operations Engineer\n",
        "Senior Software Engineer, Maps API - 37256225\n",
        "Maps Search infrastructure Engineer - 31734940\n",
        "Sr Software Engineer\n",
        "Senior Systems Engineer\n",
        "Lead DevOps Engineer\n",
        "Senior Backend Engineer @ GoPro\n",
        "Frontend Software Engineer\n"
       ]
      }
     ],
     "prompt_number": 23
    },
    {
     "cell_type": "code",
     "collapsed": false,
     "input": [
      "for job in jobs_data:\n",
      "    if \"Django\" in job['description']:\n",
      "        print job['url']"
     ],
     "language": "python",
     "metadata": {},
     "outputs": [
      {
       "output_type": "stream",
       "stream": "stdout",
       "text": [
        "http://jobs.github.com/positions/9190fff6-cb5e-11e3-8805-d4467767e4fe\n",
        "http://jobs.github.com/positions/41990432-7f2f-11e4-88d6-5baaedf16410\n"
       ]
      }
     ],
     "prompt_number": 24
    },
    {
     "cell_type": "code",
     "collapsed": false,
     "input": [],
     "language": "python",
     "metadata": {},
     "outputs": []
    }
   ],
   "metadata": {}
  }
 ]
}