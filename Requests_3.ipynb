{
 "metadata": {
  "name": "",
  "signature": "sha256:dc37618fe7432e36ee7f0789137909d55e742d51d36789f92c32624ecf0e4af6"
 },
 "nbformat": 3,
 "nbformat_minor": 0,
 "worksheets": [
  {
   "cells": [
    {
     "cell_type": "code",
     "collapsed": false,
     "input": [
      "import requests\n",
      "from bs4 import BeautifulSoup\n",
      "import re\n",
      "import os"
     ],
     "language": "python",
     "metadata": {},
     "outputs": [],
     "prompt_number": 10
    },
    {
     "cell_type": "code",
     "collapsed": false,
     "input": [
      "r = requests.get(\"http://pythonforengineers.com/pythonforengineersbook/\")\n",
      "data = r.text\n",
      "soup = BeautifulSoup(data)"
     ],
     "language": "python",
     "metadata": {},
     "outputs": [],
     "prompt_number": 11
    },
    {
     "cell_type": "code",
     "collapsed": false,
     "input": [
      "for link in soup.find_all('img'):\n",
      "    print link.get(\"src\")\n",
      "    \n",
      "    image = link.get(\"src\")\n",
      "    try:\n",
      "        r2 = requests.get(image)\n",
      "\n",
      "        basename, filename = os.path.split(image)\n",
      "\n",
      "        with open(filename, \"wb\") as out_file:\n",
      "            out_file.write(r2.content)\n",
      "    except:\n",
      "        pass"
     ],
     "language": "python",
     "metadata": {},
     "outputs": [
      {
       "output_type": "stream",
       "stream": "stdout",
       "text": [
        "http://pythonforengineers.com/wp-content/uploads/2014/07/Python_for_Scientists-small-200x300.jpg\n",
        "http://pythonforengineers.com/wp-content/uploads/2014/07/abba_face_detected-300x277.jpg"
       ]
      },
      {
       "output_type": "stream",
       "stream": "stdout",
       "text": [
        "\n",
        "http://pythonforengineers.com/wp-content/uploads/2014/07/motion2-150x150.jpg"
       ]
      },
      {
       "output_type": "stream",
       "stream": "stdout",
       "text": [
        "\n",
        "http://pythonforengineers.com/wp-content/uploads/2014/07/noisy4.png"
       ]
      },
      {
       "output_type": "stream",
       "stream": "stdout",
       "text": [
        "\n",
        "http://pythonforengineers.com/wp-content/uploads/2014/07/audacity3.jpg"
       ]
      },
      {
       "output_type": "stream",
       "stream": "stdout",
       "text": [
        "\n",
        "http://pythonforengineers.com/wp-content/uploads/2014/07/Marvin_HHGG.jpg"
       ]
      },
      {
       "output_type": "stream",
       "stream": "stdout",
       "text": [
        "\n",
        "http://pythonforengineers.com/wp-content/uploads/2014/07/300px-RaspberryPi.jpg"
       ]
      },
      {
       "output_type": "stream",
       "stream": "stdout",
       "text": [
        "\n",
        "http://pythonforengineers.com/wp-content/uploads/2014/07/rpi.jpg"
       ]
      },
      {
       "output_type": "stream",
       "stream": "stdout",
       "text": [
        "\n",
        "//in.getclicky.com/100746374ns.gif"
       ]
      },
      {
       "output_type": "stream",
       "stream": "stdout",
       "text": [
        "\n"
       ]
      }
     ],
     "prompt_number": 12
    },
    {
     "cell_type": "code",
     "collapsed": false,
     "input": [],
     "language": "python",
     "metadata": {},
     "outputs": [],
     "prompt_number": 12
    }
   ],
   "metadata": {}
  }
 ]
}