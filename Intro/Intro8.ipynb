{
 "metadata": {
  "name": "",
  "signature": "sha256:2d846f178630b9b82a8b661ed1f93308f463a3585ec9f3e62b92d92fecf580f4"
 },
 "nbformat": 3,
 "nbformat_minor": 0,
 "worksheets": [
  {
   "cells": [
    {
     "cell_type": "code",
     "collapsed": false,
     "input": [
      "import requests\n",
      "from bs4 import BeautifulSoup\n",
      "import re\n",
      "import pandas as pd\n",
      "import matplotlib.pyplot as plt"
     ],
     "language": "python",
     "metadata": {},
     "outputs": [],
     "prompt_number": 30
    },
    {
     "cell_type": "code",
     "collapsed": false,
     "input": [
      "%pylab inline"
     ],
     "language": "python",
     "metadata": {},
     "outputs": [
      {
       "output_type": "stream",
       "stream": "stdout",
       "text": [
        "Populating the interactive namespace from numpy and matplotlib\n"
       ]
      },
      {
       "output_type": "stream",
       "stream": "stderr",
       "text": [
        "WARNING: pylab import has clobbered these variables: ['colors']\n",
        "`%matplotlib` prevents importing * from pylab and numpy\n"
       ]
      }
     ],
     "prompt_number": 31
    },
    {
     "cell_type": "code",
     "collapsed": false,
     "input": [
      "r = requests.get(\"http://pythonforengineers.com/reddit-raw-data/\")\n",
      "\n",
      "data = r.text\n",
      "\n",
      "soup = BeautifulSoup(data)"
     ],
     "language": "python",
     "metadata": {},
     "outputs": [],
     "prompt_number": 32
    },
    {
     "cell_type": "code",
     "collapsed": false,
     "input": [
      "data_found = None\n",
      "for s in soup('p'):\n",
      "    string_found = re.findall(\"[\\w]*\\:[\\d]+\", s.text)\n",
      "    if string_found:\n",
      "        data_found = string_found\n",
      "\n",
      "print data_found        "
     ],
     "language": "python",
     "metadata": {},
     "outputs": [
      {
       "output_type": "stream",
       "stream": "stdout",
       "text": [
        "[u'c_language:2975', u'cpp:25270', u'csharp:17401', u'objectivec:4039', u'd_language:1584', u'java:37226', u'smalltalk:797', u'golang:12353', u'scala:7264', u'groovy:1124', u'delphi:592', u'python:88347', u'ruby:26401', u'perl:8951', u'Tcl:519', u'lua:3391', u'php:33953', u'javascript:57747', u'fsharp:1719', u'haskell:18614', u'ocaml:2089', u'lisp:9517', u'scheme:3305', u'erlang:4047', u'matlab:6884', u'brainfuck:117', u'cobol:342', u'fortran:833', u'visualbasic:1822']\n"
       ]
      }
     ],
     "prompt_number": 33
    },
    {
     "cell_type": "code",
     "collapsed": false,
     "input": [
      "data_dict = {}\n",
      "for data in data_found:\n",
      "    temp = data.split(\":\")\n",
      "    data_dict[temp[0]] = int(temp[1])\n",
      "    \n",
      "print data_dict    "
     ],
     "language": "python",
     "metadata": {},
     "outputs": [
      {
       "output_type": "stream",
       "stream": "stdout",
       "text": [
        "{u'fsharp': 1719, u'golang': 12353, u'haskell': 18614, u'brainfuck': 117, u'csharp': 17401, u'smalltalk': 797, u'java': 37226, u'scala': 7264, u'delphi': 592, u'perl': 8951, u'lua': 3391, u'matlab': 6884, u'objectivec': 4039, u'scheme': 3305, u'python': 88347, u'javascript': 57747, u'php': 33953, u'ruby': 26401, u'groovy': 1124, u'erlang': 4047, u'visualbasic': 1822, u'lisp': 9517, u'ocaml': 2089, u'd_language': 1584, u'Tcl': 519, u'fortran': 833, u'cpp': 25270, u'cobol': 342, u'c_language': 2975}\n"
       ]
      }
     ],
     "prompt_number": 34
    },
    {
     "cell_type": "code",
     "collapsed": false,
     "input": [
      "column_names =  ['Language', 'num_subscribers']\n",
      "reddit_data = pd.DataFrame(data_dict.items(), columns=column_names)"
     ],
     "language": "python",
     "metadata": {},
     "outputs": [],
     "prompt_number": 35
    },
    {
     "cell_type": "code",
     "collapsed": false,
     "input": [
      "print reddit_data"
     ],
     "language": "python",
     "metadata": {},
     "outputs": [
      {
       "output_type": "stream",
       "stream": "stdout",
       "text": [
        "       Language  num_subscribers\n",
        "0        fsharp             1719\n",
        "1        golang            12353\n",
        "2       haskell            18614\n",
        "3     brainfuck              117\n",
        "4        csharp            17401\n",
        "5     smalltalk              797\n",
        "6          java            37226\n",
        "7         scala             7264\n",
        "8        delphi              592\n",
        "9          perl             8951\n",
        "10          lua             3391\n",
        "11       matlab             6884\n",
        "12   objectivec             4039\n",
        "13       scheme             3305\n",
        "14       python            88347\n",
        "15   javascript            57747\n",
        "16          php            33953\n",
        "17         ruby            26401\n",
        "18       groovy             1124\n",
        "19       erlang             4047\n",
        "20  visualbasic             1822\n",
        "21         lisp             9517\n",
        "22        ocaml             2089\n",
        "23   d_language             1584\n",
        "24          Tcl              519\n",
        "25      fortran              833\n",
        "26          cpp            25270\n",
        "27        cobol              342\n",
        "28   c_language             2975\n"
       ]
      }
     ],
     "prompt_number": 36
    },
    {
     "cell_type": "code",
     "collapsed": false,
     "input": [
      "reddit_data.set_index(\"Language\", inplace=True)\n",
      "print reddit_data"
     ],
     "language": "python",
     "metadata": {},
     "outputs": [
      {
       "output_type": "stream",
       "stream": "stdout",
       "text": [
        "             num_subscribers\n",
        "Language                    \n",
        "fsharp                  1719\n",
        "golang                 12353\n",
        "haskell                18614\n",
        "brainfuck                117\n",
        "csharp                 17401\n",
        "smalltalk                797\n",
        "java                   37226\n",
        "scala                   7264\n",
        "delphi                   592\n",
        "perl                    8951\n",
        "lua                     3391\n",
        "matlab                  6884\n",
        "objectivec              4039\n",
        "scheme                  3305\n",
        "python                 88347\n",
        "javascript             57747\n",
        "php                    33953\n",
        "ruby                   26401\n",
        "groovy                  1124\n",
        "erlang                  4047\n",
        "visualbasic             1822\n",
        "lisp                    9517\n",
        "ocaml                   2089\n",
        "d_language              1584\n",
        "Tcl                      519\n",
        "fortran                  833\n",
        "cpp                    25270\n",
        "cobol                    342\n",
        "c_language              2975\n"
       ]
      }
     ],
     "prompt_number": 37
    },
    {
     "cell_type": "code",
     "collapsed": false,
     "input": [
      "print \"Least popular languages:\"\n",
      "print reddit_data.sort(\"num_subscribers\")[:10]"
     ],
     "language": "python",
     "metadata": {},
     "outputs": [
      {
       "output_type": "stream",
       "stream": "stdout",
       "text": [
        "Least popular languages:\n",
        "             num_subscribers\n",
        "Language                    \n",
        "brainfuck                117\n",
        "cobol                    342\n",
        "Tcl                      519\n",
        "delphi                   592\n",
        "smalltalk                797\n",
        "fortran                  833\n",
        "groovy                  1124\n",
        "d_language              1584\n",
        "fsharp                  1719\n",
        "visualbasic             1822\n"
       ]
      }
     ],
     "prompt_number": 38
    },
    {
     "cell_type": "code",
     "collapsed": false,
     "input": [
      "print \"Most popular languages:\"\n",
      "print reddit_data.sort(\"num_subscribers\", ascending=False)[:10]"
     ],
     "language": "python",
     "metadata": {},
     "outputs": [
      {
       "output_type": "stream",
       "stream": "stdout",
       "text": [
        "Most popular languages:\n",
        "            num_subscribers\n",
        "Language                   \n",
        "python                88347\n",
        "javascript            57747\n",
        "java                  37226\n",
        "php                   33953\n",
        "ruby                  26401\n",
        "cpp                   25270\n",
        "haskell               18614\n",
        "csharp                17401\n",
        "golang                12353\n",
        "lisp                   9517\n"
       ]
      }
     ],
     "prompt_number": 39
    },
    {
     "cell_type": "code",
     "collapsed": false,
     "input": [
      "reddit_data.sort(\"num_subscribers\")[:10].plot(kind='bar', title = \"The least popular languages on Reddit\")\n",
      "\n",
      "plt.tight_layout()\n",
      "\n",
      "plt.show()"
     ],
     "language": "python",
     "metadata": {},
     "outputs": [
      {
       "metadata": {},
       "output_type": "display_data",
       "png": "[encoded data removed]",
       "text": [
        "<matplotlib.figure.Figure at 0x8e7d230>"
       ]
      }
     ],
     "prompt_number": 40
    },
    {
     "cell_type": "code",
     "collapsed": false,
     "input": [
      "top_five =  reddit_data.sort(\"num_subscribers\", ascending=False)[:5]\n",
      "\n",
      "sum_five = float(top_five.sum())\n",
      "print sum_five"
     ],
     "language": "python",
     "metadata": {},
     "outputs": [
      {
       "output_type": "stream",
       "stream": "stdout",
       "text": [
        "243674.0\n"
       ]
      }
     ],
     "prompt_number": 41
    },
    {
     "cell_type": "code",
     "collapsed": false,
     "input": [
      "top_five['percent'] = (top_five['num_subscribers'] * 100) / sum_five\n",
      "print top_five"
     ],
     "language": "python",
     "metadata": {},
     "outputs": [
      {
       "output_type": "stream",
       "stream": "stdout",
       "text": [
        "            num_subscribers    percent\n",
        "Language                              \n",
        "python                88347  36.256228\n",
        "javascript            57747  23.698466\n",
        "java                  37226  15.276968\n",
        "php                   33953  13.933780\n",
        "ruby                  26401  10.834558\n"
       ]
      }
     ],
     "prompt_number": 42
    },
    {
     "cell_type": "code",
     "collapsed": false,
     "input": [
      "colors_mine = ['yellowgreen', 'gold', 'lightskyblue', 'lightcoral', 'lightcyan']\n",
      "explode = (0.1, 0, 0, 0, 0) # only \"explode\" the 2nd slice (i.red_panda. 'Hogs')\n",
      "top_five['percent'].plot(kind=\"pie\", autopct='%.2f%%', shadow=True, colors = colors_mine, explode=explode, startangle=90, title = \"The Top 5 languages on Reddit\")\n",
      "\n",
      "plt.show()"
     ],
     "language": "python",
     "metadata": {},
     "outputs": [
      {
       "metadata": {},
       "output_type": "display_data",
       "png": "[encoded data removed]",
       "text": [
        "<matplotlib.figure.Figure at 0x9114470>"
       ]
      }
     ],
     "prompt_number": 43
    },
    {
     "cell_type": "code",
     "collapsed": false,
     "input": [],
     "language": "python",
     "metadata": {},
     "outputs": [],
     "prompt_number": 43
    }
   ],
   "metadata": {}
  }
 ]
}