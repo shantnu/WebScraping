{
 "metadata": {
  "name": "",
  "signature": "sha256:917e8fa8a7753ae898915b5595c80998b31391a01ed98ddd3d3d763b1101fbb3"
 },
 "nbformat": 3,
 "nbformat_minor": 0,
 "worksheets": [
  {
   "cells": [
    {
     "cell_type": "code",
     "collapsed": false,
     "input": [
      "import requests\n",
      "from bs4 import BeautifulSoup\n",
      "import re"
     ],
     "language": "python",
     "metadata": {},
     "outputs": [],
     "prompt_number": 1
    },
    {
     "cell_type": "code",
     "collapsed": false,
     "input": [
      "r = requests.get(\"http://pythonforengineers.com/reddit-raw-data/\")\n",
      "\n",
      "data = r.text\n",
      "\n",
      "soup = BeautifulSoup(data)"
     ],
     "language": "python",
     "metadata": {},
     "outputs": [],
     "prompt_number": 2
    },
    {
     "cell_type": "code",
     "collapsed": false,
     "input": [
      "data_found = None\n",
      "for s in soup('p'):\n",
      "    string_found = re.findall(\"[\\w]*\\:[\\d]+\", s.text)\n",
      "    if string_found:\n",
      "        data_found = string_found\n",
      "\n",
      "print data_found        "
     ],
     "language": "python",
     "metadata": {},
     "outputs": [
      {
       "output_type": "stream",
       "stream": "stdout",
       "text": [
        "[u'c_language:2975', u'cpp:25270', u'csharp:17401', u'objectivec:4039', u'd_language:1584', u'java:37226', u'smalltalk:797', u'golang:12353', u'scala:7264', u'groovy:1124', u'delphi:592', u'python:88347', u'ruby:26401', u'perl:8951', u'Tcl:519', u'lua:3391', u'php:33953', u'javascript:57747', u'fsharp:1719', u'haskell:18614', u'ocaml:2089', u'lisp:9517', u'scheme:3305', u'erlang:4047', u'matlab:6884', u'brainfuck:117', u'cobol:342', u'fortran:833', u'visualbasic:1822']\n"
       ]
      }
     ],
     "prompt_number": 3
    },
    {
     "cell_type": "code",
     "collapsed": false,
     "input": [
      "data_dict = {}\n",
      "for data in data_found:\n",
      "    temp = data.split(\":\")\n",
      "    data_dict[temp[0]] = int(temp[1])\n",
      "    \n",
      "print data_dict    "
     ],
     "language": "python",
     "metadata": {},
     "outputs": [
      {
       "output_type": "stream",
       "stream": "stdout",
       "text": [
        "{u'fsharp': 1719, u'golang': 12353, u'haskell': 18614, u'brainfuck': 117, u'csharp': 17401, u'smalltalk': 797, u'java': 37226, u'scala': 7264, u'delphi': 592, u'perl': 8951, u'lua': 3391, u'matlab': 6884, u'objectivec': 4039, u'scheme': 3305, u'python': 88347, u'javascript': 57747, u'php': 33953, u'ruby': 26401, u'groovy': 1124, u'erlang': 4047, u'visualbasic': 1822, u'lisp': 9517, u'ocaml': 2089, u'd_language': 1584, u'Tcl': 519, u'fortran': 833, u'cpp': 25270, u'cobol': 342, u'c_language': 2975}\n"
       ]
      }
     ],
     "prompt_number": 4
    }
   ],
   "metadata": {}
  }
 ]
}