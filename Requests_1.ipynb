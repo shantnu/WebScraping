{
 "metadata": {
  "name": "",
  "signature": "sha256:1fd1f136d5ed1163ccbb2ea5683e324ebad6b459ec75f4c551b883cb379d8c47"
 },
 "nbformat": 3,
 "nbformat_minor": 0,
 "worksheets": [
  {
   "cells": [
    {
     "cell_type": "code",
     "collapsed": false,
     "input": [
      "import requests\n",
      "from bs4 import BeautifulSoup"
     ],
     "language": "python",
     "metadata": {},
     "outputs": [],
     "prompt_number": 15
    },
    {
     "cell_type": "code",
     "collapsed": false,
     "input": [
      "r = requests.get(\"http://pythonforengineers.com/pythonforengineersbook/\")"
     ],
     "language": "python",
     "metadata": {},
     "outputs": [],
     "prompt_number": 16
    },
    {
     "cell_type": "code",
     "collapsed": false,
     "input": [
      "for link in soup.find_all('a'):\n",
      "    print link.get('href')"
     ],
     "language": "python",
     "metadata": {},
     "outputs": [
      {
       "output_type": "stream",
       "stream": "stdout",
       "text": [
        "http://pythonforengineers.com/\n",
        "http://pythonforengineers.com/\n",
        "http://pythonforengineers.com/articles/\n",
        "http://pythonforengineers.com/contact/\n",
        "http://pythonforengineers.com/forum/pyengbook/\n",
        "http://pythonforengineers.com/wp-content/uploads/2014/07/Python_for_Scientists-small.jpg\n",
        "https://www.kickstarter.com/projects/513736598/python-for-science-and-engineering\n",
        "http://pythonforengineers.com/wp-content/uploads/2014/07/abba_face_detected.jpg\n",
        "http://pythonforengineers.com/wp-content/uploads/2014/07/motion2.jpg\n",
        "http://pythonforengineers.com/wp-content/uploads/2014/07/noisy4.png\n",
        "http://pythonforengineers.com/wp-content/uploads/2014/07/Marvin_HHGG.jpg\n",
        "http://pythonforengineers.com/wp-content/uploads/2014/07/300px-RaspberryPi.jpg\n",
        "http://pythonforengineers.com/wp-content/uploads/2014/07/rpi.jpg\n",
        "https://gumroad.com/l/FdlZ\n",
        "https://gumroad.com/l/AGgDY\n",
        "https://leanpub.com/pythonforengineers\n",
        "http://pythonforengineers.com/feed/rss/\n",
        "http://pythonforengineers.com\n",
        "http://themesandco.com/\n",
        "#\n"
       ]
      }
     ],
     "prompt_number": 22
    },
    {
     "cell_type": "code",
     "collapsed": false,
     "input": [],
     "language": "python",
     "metadata": {},
     "outputs": [],
     "prompt_number": 22
    }
   ],
   "metadata": {}
  }
 ]
}